{
  "cells": [
    {
      "cell_type": "markdown",
      "metadata": {
        "id": "view-in-github",
        "colab_type": "text"
      },
      "source": [
        "<a href=\"https://colab.research.google.com/github/shrushingala/Assignment-Submission/blob/main/CREDICT_DEFAULTERS_PREDICTION_WITH_KERAS_IN_PYTHON.ipynb\" target=\"_parent\"><img src=\"https://colab.research.google.com/assets/colab-badge.svg\" alt=\"Open In Colab\"/></a>"
      ]
    },
    {
      "cell_type": "code",
      "execution_count": 29,
      "id": "9798c051",
      "metadata": {
        "colab": {
          "base_uri": "https://localhost:8080/",
          "height": 938
        },
        "id": "9798c051",
        "outputId": "b6e6592e-cf39-4293-a271-c1de4a8b5c2b"
      },
      "outputs": [
        {
          "output_type": "stream",
          "name": "stdout",
          "text": [
            "Requirement already satisfied: tensorflow in /usr/local/lib/python3.7/dist-packages (2.8.0)\n",
            "Requirement already satisfied: h5py>=2.9.0 in /usr/local/lib/python3.7/dist-packages (from tensorflow) (3.1.0)\n",
            "Requirement already satisfied: six>=1.12.0 in /usr/local/lib/python3.7/dist-packages (from tensorflow) (1.15.0)\n",
            "Requirement already satisfied: gast>=0.2.1 in /usr/local/lib/python3.7/dist-packages (from tensorflow) (0.5.3)\n",
            "Requirement already satisfied: tensorboard<2.9,>=2.8 in /usr/local/lib/python3.7/dist-packages (from tensorflow) (2.8.0)\n",
            "Requirement already satisfied: typing-extensions>=3.6.6 in /usr/local/lib/python3.7/dist-packages (from tensorflow) (3.10.0.2)\n",
            "Requirement already satisfied: keras<2.9,>=2.8.0rc0 in /usr/local/lib/python3.7/dist-packages (from tensorflow) (2.8.0)\n",
            "Collecting tf-estimator-nightly==2.8.0.dev2021122109\n",
            "  Downloading tf_estimator_nightly-2.8.0.dev2021122109-py2.py3-none-any.whl (462 kB)\n",
            "\u001b[K     |████████████████████████████████| 462 kB 3.9 MB/s \n",
            "\u001b[?25hRequirement already satisfied: absl-py>=0.4.0 in /usr/local/lib/python3.7/dist-packages (from tensorflow) (1.0.0)\n",
            "Requirement already satisfied: setuptools in /usr/local/lib/python3.7/dist-packages (from tensorflow) (57.4.0)\n",
            "Requirement already satisfied: astunparse>=1.6.0 in /usr/local/lib/python3.7/dist-packages (from tensorflow) (1.6.3)\n",
            "Requirement already satisfied: protobuf>=3.9.2 in /usr/local/lib/python3.7/dist-packages (from tensorflow) (3.17.3)\n",
            "Requirement already satisfied: google-pasta>=0.1.1 in /usr/local/lib/python3.7/dist-packages (from tensorflow) (0.2.0)\n",
            "Requirement already satisfied: numpy>=1.20 in /usr/local/lib/python3.7/dist-packages (from tensorflow) (1.21.5)\n",
            "Requirement already satisfied: termcolor>=1.1.0 in /usr/local/lib/python3.7/dist-packages (from tensorflow) (1.1.0)\n",
            "Requirement already satisfied: flatbuffers>=1.12 in /usr/local/lib/python3.7/dist-packages (from tensorflow) (2.0)\n",
            "Requirement already satisfied: libclang>=9.0.1 in /usr/local/lib/python3.7/dist-packages (from tensorflow) (13.0.0)\n",
            "Requirement already satisfied: wrapt>=1.11.0 in /usr/local/lib/python3.7/dist-packages (from tensorflow) (1.13.3)\n",
            "Requirement already satisfied: grpcio<2.0,>=1.24.3 in /usr/local/lib/python3.7/dist-packages (from tensorflow) (1.44.0)\n",
            "Requirement already satisfied: opt-einsum>=2.3.2 in /usr/local/lib/python3.7/dist-packages (from tensorflow) (3.3.0)\n",
            "Requirement already satisfied: tensorflow-io-gcs-filesystem>=0.23.1 in /usr/local/lib/python3.7/dist-packages (from tensorflow) (0.24.0)\n",
            "Requirement already satisfied: keras-preprocessing>=1.1.1 in /usr/local/lib/python3.7/dist-packages (from tensorflow) (1.1.2)\n",
            "Requirement already satisfied: wheel<1.0,>=0.23.0 in /usr/local/lib/python3.7/dist-packages (from astunparse>=1.6.0->tensorflow) (0.37.1)\n",
            "Requirement already satisfied: cached-property in /usr/local/lib/python3.7/dist-packages (from h5py>=2.9.0->tensorflow) (1.5.2)\n",
            "Requirement already satisfied: werkzeug>=0.11.15 in /usr/local/lib/python3.7/dist-packages (from tensorboard<2.9,>=2.8->tensorflow) (1.0.1)\n",
            "Requirement already satisfied: google-auth<3,>=1.6.3 in /usr/local/lib/python3.7/dist-packages (from tensorboard<2.9,>=2.8->tensorflow) (1.35.0)\n",
            "Requirement already satisfied: tensorboard-plugin-wit>=1.6.0 in /usr/local/lib/python3.7/dist-packages (from tensorboard<2.9,>=2.8->tensorflow) (1.8.1)\n",
            "Requirement already satisfied: requests<3,>=2.21.0 in /usr/local/lib/python3.7/dist-packages (from tensorboard<2.9,>=2.8->tensorflow) (2.23.0)\n",
            "Requirement already satisfied: markdown>=2.6.8 in /usr/local/lib/python3.7/dist-packages (from tensorboard<2.9,>=2.8->tensorflow) (3.3.6)\n",
            "Requirement already satisfied: tensorboard-data-server<0.7.0,>=0.6.0 in /usr/local/lib/python3.7/dist-packages (from tensorboard<2.9,>=2.8->tensorflow) (0.6.1)\n",
            "Requirement already satisfied: google-auth-oauthlib<0.5,>=0.4.1 in /usr/local/lib/python3.7/dist-packages (from tensorboard<2.9,>=2.8->tensorflow) (0.4.6)\n",
            "Requirement already satisfied: pyasn1-modules>=0.2.1 in /usr/local/lib/python3.7/dist-packages (from google-auth<3,>=1.6.3->tensorboard<2.9,>=2.8->tensorflow) (0.2.8)\n",
            "Requirement already satisfied: rsa<5,>=3.1.4 in /usr/local/lib/python3.7/dist-packages (from google-auth<3,>=1.6.3->tensorboard<2.9,>=2.8->tensorflow) (4.8)\n",
            "Requirement already satisfied: cachetools<5.0,>=2.0.0 in /usr/local/lib/python3.7/dist-packages (from google-auth<3,>=1.6.3->tensorboard<2.9,>=2.8->tensorflow) (4.2.4)\n",
            "Requirement already satisfied: requests-oauthlib>=0.7.0 in /usr/local/lib/python3.7/dist-packages (from google-auth-oauthlib<0.5,>=0.4.1->tensorboard<2.9,>=2.8->tensorflow) (1.3.1)\n",
            "Requirement already satisfied: importlib-metadata>=4.4 in /usr/local/lib/python3.7/dist-packages (from markdown>=2.6.8->tensorboard<2.9,>=2.8->tensorflow) (4.11.2)\n",
            "Requirement already satisfied: zipp>=0.5 in /usr/local/lib/python3.7/dist-packages (from importlib-metadata>=4.4->markdown>=2.6.8->tensorboard<2.9,>=2.8->tensorflow) (3.7.0)\n",
            "Requirement already satisfied: pyasn1<0.5.0,>=0.4.6 in /usr/local/lib/python3.7/dist-packages (from pyasn1-modules>=0.2.1->google-auth<3,>=1.6.3->tensorboard<2.9,>=2.8->tensorflow) (0.4.8)\n",
            "Requirement already satisfied: idna<3,>=2.5 in /usr/local/lib/python3.7/dist-packages (from requests<3,>=2.21.0->tensorboard<2.9,>=2.8->tensorflow) (2.10)\n",
            "Requirement already satisfied: urllib3!=1.25.0,!=1.25.1,<1.26,>=1.21.1 in /usr/local/lib/python3.7/dist-packages (from requests<3,>=2.21.0->tensorboard<2.9,>=2.8->tensorflow) (1.24.3)\n",
            "Requirement already satisfied: chardet<4,>=3.0.2 in /usr/local/lib/python3.7/dist-packages (from requests<3,>=2.21.0->tensorboard<2.9,>=2.8->tensorflow) (3.0.4)\n",
            "Requirement already satisfied: certifi>=2017.4.17 in /usr/local/lib/python3.7/dist-packages (from requests<3,>=2.21.0->tensorboard<2.9,>=2.8->tensorflow) (2021.10.8)\n",
            "Requirement already satisfied: oauthlib>=3.0.0 in /usr/local/lib/python3.7/dist-packages (from requests-oauthlib>=0.7.0->google-auth-oauthlib<0.5,>=0.4.1->tensorboard<2.9,>=2.8->tensorflow) (3.2.0)\n",
            "Installing collected packages: tf-estimator-nightly\n",
            "Successfully installed tf-estimator-nightly-2.8.0.dev2021122109\n"
          ]
        },
        {
          "output_type": "display_data",
          "data": {
            "application/vnd.colab-display-data+json": {
              "pip_warning": {
                "packages": [
                  "tensorflow_estimator"
                ]
              }
            }
          },
          "metadata": {}
        }
      ],
      "source": [
        "pip install tensorflow"
      ]
    },
    {
      "cell_type": "code",
      "execution_count": 1,
      "id": "7ca8b7c2",
      "metadata": {
        "colab": {
          "base_uri": "https://localhost:8080/"
        },
        "id": "7ca8b7c2",
        "outputId": "0a09def0-7bad-49ec-d95a-43300606d4cd"
      },
      "outputs": [
        {
          "output_type": "stream",
          "name": "stdout",
          "text": [
            "Requirement already satisfied: keras in /usr/local/lib/python3.7/dist-packages (2.8.0)\n"
          ]
        }
      ],
      "source": [
        "pip install keras"
      ]
    },
    {
      "cell_type": "code",
      "source": [
        "import tensorflow as tf"
      ],
      "metadata": {
        "id": "WwNXDSm6Zhfn"
      },
      "id": "WwNXDSm6Zhfn",
      "execution_count": 2,
      "outputs": []
    },
    {
      "cell_type": "code",
      "source": [
        "tf.__version__"
      ],
      "metadata": {
        "colab": {
          "base_uri": "https://localhost:8080/",
          "height": 35
        },
        "id": "Ksa0huO4ZwHZ",
        "outputId": "17beafa8-f9c8-4bb6-8c11-19554f20da48"
      },
      "id": "Ksa0huO4ZwHZ",
      "execution_count": 3,
      "outputs": [
        {
          "output_type": "execute_result",
          "data": {
            "text/plain": [
              "'2.8.0'"
            ],
            "application/vnd.google.colaboratory.intrinsic+json": {
              "type": "string"
            }
          },
          "metadata": {},
          "execution_count": 3
        }
      ]
    },
    {
      "cell_type": "code",
      "source": [
        "import os\n",
        "import numpy as np\n",
        "import pandas as pd\n",
        "import matplotlib.pyplot as plt\n",
        "import keras\n",
        "from tensorflow import keras\n",
        "import itertools"
      ],
      "metadata": {
        "id": "P4Xr6QZ5ZzL7"
      },
      "id": "P4Xr6QZ5ZzL7",
      "execution_count": 4,
      "outputs": []
    },
    {
      "cell_type": "code",
      "source": [
        "df=pd.read_csv(\"/content/creditcarddefault.csv\")"
      ],
      "metadata": {
        "id": "__FFVRSAab1o"
      },
      "id": "__FFVRSAab1o",
      "execution_count": 13,
      "outputs": []
    },
    {
      "cell_type": "code",
      "source": [
        "df.head()"
      ],
      "metadata": {
        "colab": {
          "base_uri": "https://localhost:8080/",
          "height": 351
        },
        "id": "qC2jdryea8z0",
        "outputId": "5837c83b-bb6a-4411-8ee9-2fb3115ea634"
      },
      "id": "qC2jdryea8z0",
      "execution_count": 14,
      "outputs": [
        {
          "output_type": "execute_result",
          "data": {
            "text/plain": [
              "   ID  LIMIT_BAL  SEX  EDUCATION  MARRIAGE  AGE  PAY_0  PAY_2  PAY_3  PAY_4  \\\n",
              "0   1      20000    2          2         1   24      2      2     -1     -1   \n",
              "1   2     120000    2          2         2   26     -1      2      0      0   \n",
              "2   3      90000    2          2         2   34      0      0      0      0   \n",
              "3   4      50000    2          2         1   37      0      0      0      0   \n",
              "4   5      50000    1          2         1   57     -1      0     -1      0   \n",
              "\n",
              "   ...  BILL_AMT4  BILL_AMT5  BILL_AMT6  PAY_AMT1  PAY_AMT2  PAY_AMT3  \\\n",
              "0  ...          0          0          0         0       689         0   \n",
              "1  ...       3272       3455       3261         0      1000      1000   \n",
              "2  ...      14331      14948      15549      1518      1500      1000   \n",
              "3  ...      28314      28959      29547      2000      2019      1200   \n",
              "4  ...      20940      19146      19131      2000     36681     10000   \n",
              "\n",
              "   PAY_AMT4  PAY_AMT5  PAY_AMT6  default payment next month  \n",
              "0         0         0         0                           1  \n",
              "1      1000         0      2000                           1  \n",
              "2      1000      1000      5000                           0  \n",
              "3      1100      1069      1000                           0  \n",
              "4      9000       689       679                           0  \n",
              "\n",
              "[5 rows x 25 columns]"
            ],
            "text/html": [
              "\n",
              "  <div id=\"df-06325aa4-5c08-4d13-8317-cfdda975d734\">\n",
              "    <div class=\"colab-df-container\">\n",
              "      <div>\n",
              "<style scoped>\n",
              "    .dataframe tbody tr th:only-of-type {\n",
              "        vertical-align: middle;\n",
              "    }\n",
              "\n",
              "    .dataframe tbody tr th {\n",
              "        vertical-align: top;\n",
              "    }\n",
              "\n",
              "    .dataframe thead th {\n",
              "        text-align: right;\n",
              "    }\n",
              "</style>\n",
              "<table border=\"1\" class=\"dataframe\">\n",
              "  <thead>\n",
              "    <tr style=\"text-align: right;\">\n",
              "      <th></th>\n",
              "      <th>ID</th>\n",
              "      <th>LIMIT_BAL</th>\n",
              "      <th>SEX</th>\n",
              "      <th>EDUCATION</th>\n",
              "      <th>MARRIAGE</th>\n",
              "      <th>AGE</th>\n",
              "      <th>PAY_0</th>\n",
              "      <th>PAY_2</th>\n",
              "      <th>PAY_3</th>\n",
              "      <th>PAY_4</th>\n",
              "      <th>...</th>\n",
              "      <th>BILL_AMT4</th>\n",
              "      <th>BILL_AMT5</th>\n",
              "      <th>BILL_AMT6</th>\n",
              "      <th>PAY_AMT1</th>\n",
              "      <th>PAY_AMT2</th>\n",
              "      <th>PAY_AMT3</th>\n",
              "      <th>PAY_AMT4</th>\n",
              "      <th>PAY_AMT5</th>\n",
              "      <th>PAY_AMT6</th>\n",
              "      <th>default payment next month</th>\n",
              "    </tr>\n",
              "  </thead>\n",
              "  <tbody>\n",
              "    <tr>\n",
              "      <th>0</th>\n",
              "      <td>1</td>\n",
              "      <td>20000</td>\n",
              "      <td>2</td>\n",
              "      <td>2</td>\n",
              "      <td>1</td>\n",
              "      <td>24</td>\n",
              "      <td>2</td>\n",
              "      <td>2</td>\n",
              "      <td>-1</td>\n",
              "      <td>-1</td>\n",
              "      <td>...</td>\n",
              "      <td>0</td>\n",
              "      <td>0</td>\n",
              "      <td>0</td>\n",
              "      <td>0</td>\n",
              "      <td>689</td>\n",
              "      <td>0</td>\n",
              "      <td>0</td>\n",
              "      <td>0</td>\n",
              "      <td>0</td>\n",
              "      <td>1</td>\n",
              "    </tr>\n",
              "    <tr>\n",
              "      <th>1</th>\n",
              "      <td>2</td>\n",
              "      <td>120000</td>\n",
              "      <td>2</td>\n",
              "      <td>2</td>\n",
              "      <td>2</td>\n",
              "      <td>26</td>\n",
              "      <td>-1</td>\n",
              "      <td>2</td>\n",
              "      <td>0</td>\n",
              "      <td>0</td>\n",
              "      <td>...</td>\n",
              "      <td>3272</td>\n",
              "      <td>3455</td>\n",
              "      <td>3261</td>\n",
              "      <td>0</td>\n",
              "      <td>1000</td>\n",
              "      <td>1000</td>\n",
              "      <td>1000</td>\n",
              "      <td>0</td>\n",
              "      <td>2000</td>\n",
              "      <td>1</td>\n",
              "    </tr>\n",
              "    <tr>\n",
              "      <th>2</th>\n",
              "      <td>3</td>\n",
              "      <td>90000</td>\n",
              "      <td>2</td>\n",
              "      <td>2</td>\n",
              "      <td>2</td>\n",
              "      <td>34</td>\n",
              "      <td>0</td>\n",
              "      <td>0</td>\n",
              "      <td>0</td>\n",
              "      <td>0</td>\n",
              "      <td>...</td>\n",
              "      <td>14331</td>\n",
              "      <td>14948</td>\n",
              "      <td>15549</td>\n",
              "      <td>1518</td>\n",
              "      <td>1500</td>\n",
              "      <td>1000</td>\n",
              "      <td>1000</td>\n",
              "      <td>1000</td>\n",
              "      <td>5000</td>\n",
              "      <td>0</td>\n",
              "    </tr>\n",
              "    <tr>\n",
              "      <th>3</th>\n",
              "      <td>4</td>\n",
              "      <td>50000</td>\n",
              "      <td>2</td>\n",
              "      <td>2</td>\n",
              "      <td>1</td>\n",
              "      <td>37</td>\n",
              "      <td>0</td>\n",
              "      <td>0</td>\n",
              "      <td>0</td>\n",
              "      <td>0</td>\n",
              "      <td>...</td>\n",
              "      <td>28314</td>\n",
              "      <td>28959</td>\n",
              "      <td>29547</td>\n",
              "      <td>2000</td>\n",
              "      <td>2019</td>\n",
              "      <td>1200</td>\n",
              "      <td>1100</td>\n",
              "      <td>1069</td>\n",
              "      <td>1000</td>\n",
              "      <td>0</td>\n",
              "    </tr>\n",
              "    <tr>\n",
              "      <th>4</th>\n",
              "      <td>5</td>\n",
              "      <td>50000</td>\n",
              "      <td>1</td>\n",
              "      <td>2</td>\n",
              "      <td>1</td>\n",
              "      <td>57</td>\n",
              "      <td>-1</td>\n",
              "      <td>0</td>\n",
              "      <td>-1</td>\n",
              "      <td>0</td>\n",
              "      <td>...</td>\n",
              "      <td>20940</td>\n",
              "      <td>19146</td>\n",
              "      <td>19131</td>\n",
              "      <td>2000</td>\n",
              "      <td>36681</td>\n",
              "      <td>10000</td>\n",
              "      <td>9000</td>\n",
              "      <td>689</td>\n",
              "      <td>679</td>\n",
              "      <td>0</td>\n",
              "    </tr>\n",
              "  </tbody>\n",
              "</table>\n",
              "<p>5 rows × 25 columns</p>\n",
              "</div>\n",
              "      <button class=\"colab-df-convert\" onclick=\"convertToInteractive('df-06325aa4-5c08-4d13-8317-cfdda975d734')\"\n",
              "              title=\"Convert this dataframe to an interactive table.\"\n",
              "              style=\"display:none;\">\n",
              "        \n",
              "  <svg xmlns=\"http://www.w3.org/2000/svg\" height=\"24px\"viewBox=\"0 0 24 24\"\n",
              "       width=\"24px\">\n",
              "    <path d=\"M0 0h24v24H0V0z\" fill=\"none\"/>\n",
              "    <path d=\"M18.56 5.44l.94 2.06.94-2.06 2.06-.94-2.06-.94-.94-2.06-.94 2.06-2.06.94zm-11 1L8.5 8.5l.94-2.06 2.06-.94-2.06-.94L8.5 2.5l-.94 2.06-2.06.94zm10 10l.94 2.06.94-2.06 2.06-.94-2.06-.94-.94-2.06-.94 2.06-2.06.94z\"/><path d=\"M17.41 7.96l-1.37-1.37c-.4-.4-.92-.59-1.43-.59-.52 0-1.04.2-1.43.59L10.3 9.45l-7.72 7.72c-.78.78-.78 2.05 0 2.83L4 21.41c.39.39.9.59 1.41.59.51 0 1.02-.2 1.41-.59l7.78-7.78 2.81-2.81c.8-.78.8-2.07 0-2.86zM5.41 20L4 18.59l7.72-7.72 1.47 1.35L5.41 20z\"/>\n",
              "  </svg>\n",
              "      </button>\n",
              "      \n",
              "  <style>\n",
              "    .colab-df-container {\n",
              "      display:flex;\n",
              "      flex-wrap:wrap;\n",
              "      gap: 12px;\n",
              "    }\n",
              "\n",
              "    .colab-df-convert {\n",
              "      background-color: #E8F0FE;\n",
              "      border: none;\n",
              "      border-radius: 50%;\n",
              "      cursor: pointer;\n",
              "      display: none;\n",
              "      fill: #1967D2;\n",
              "      height: 32px;\n",
              "      padding: 0 0 0 0;\n",
              "      width: 32px;\n",
              "    }\n",
              "\n",
              "    .colab-df-convert:hover {\n",
              "      background-color: #E2EBFA;\n",
              "      box-shadow: 0px 1px 2px rgba(60, 64, 67, 0.3), 0px 1px 3px 1px rgba(60, 64, 67, 0.15);\n",
              "      fill: #174EA6;\n",
              "    }\n",
              "\n",
              "    [theme=dark] .colab-df-convert {\n",
              "      background-color: #3B4455;\n",
              "      fill: #D2E3FC;\n",
              "    }\n",
              "\n",
              "    [theme=dark] .colab-df-convert:hover {\n",
              "      background-color: #434B5C;\n",
              "      box-shadow: 0px 1px 3px 1px rgba(0, 0, 0, 0.15);\n",
              "      filter: drop-shadow(0px 1px 2px rgba(0, 0, 0, 0.3));\n",
              "      fill: #FFFFFF;\n",
              "    }\n",
              "  </style>\n",
              "\n",
              "      <script>\n",
              "        const buttonEl =\n",
              "          document.querySelector('#df-06325aa4-5c08-4d13-8317-cfdda975d734 button.colab-df-convert');\n",
              "        buttonEl.style.display =\n",
              "          google.colab.kernel.accessAllowed ? 'block' : 'none';\n",
              "\n",
              "        async function convertToInteractive(key) {\n",
              "          const element = document.querySelector('#df-06325aa4-5c08-4d13-8317-cfdda975d734');\n",
              "          const dataTable =\n",
              "            await google.colab.kernel.invokeFunction('convertToInteractive',\n",
              "                                                     [key], {});\n",
              "          if (!dataTable) return;\n",
              "\n",
              "          const docLinkHtml = 'Like what you see? Visit the ' +\n",
              "            '<a target=\"_blank\" href=https://colab.research.google.com/notebooks/data_table.ipynb>data table notebook</a>'\n",
              "            + ' to learn more about interactive tables.';\n",
              "          element.innerHTML = '';\n",
              "          dataTable['output_type'] = 'display_data';\n",
              "          await google.colab.output.renderOutput(dataTable, element);\n",
              "          const docLink = document.createElement('div');\n",
              "          docLink.innerHTML = docLinkHtml;\n",
              "          element.appendChild(docLink);\n",
              "        }\n",
              "      </script>\n",
              "    </div>\n",
              "  </div>\n",
              "  "
            ]
          },
          "metadata": {},
          "execution_count": 14
        }
      ]
    },
    {
      "cell_type": "code",
      "source": [
        "df.shape"
      ],
      "metadata": {
        "colab": {
          "base_uri": "https://localhost:8080/"
        },
        "id": "l9qaTReCc2zC",
        "outputId": "d886f1d2-f7a3-414b-f261-53bb1a544e1c"
      },
      "id": "l9qaTReCc2zC",
      "execution_count": 15,
      "outputs": [
        {
          "output_type": "execute_result",
          "data": {
            "text/plain": [
              "(30000, 25)"
            ]
          },
          "metadata": {},
          "execution_count": 15
        }
      ]
    },
    {
      "cell_type": "code",
      "source": [
        "df.describe()"
      ],
      "metadata": {
        "colab": {
          "base_uri": "https://localhost:8080/",
          "height": 428
        },
        "id": "Go6BGQuccKx7",
        "outputId": "b249b9a4-54af-4e91-ed14-a3c8651329e2"
      },
      "id": "Go6BGQuccKx7",
      "execution_count": 16,
      "outputs": [
        {
          "output_type": "execute_result",
          "data": {
            "text/plain": [
              "                 ID       LIMIT_BAL           SEX     EDUCATION      MARRIAGE  \\\n",
              "count  30000.000000    30000.000000  30000.000000  30000.000000  30000.000000   \n",
              "mean   15000.500000   167484.322667      1.603733      1.853133      1.551867   \n",
              "std     8660.398374   129747.661567      0.489129      0.790349      0.521970   \n",
              "min        1.000000    10000.000000      1.000000      0.000000      0.000000   \n",
              "25%     7500.750000    50000.000000      1.000000      1.000000      1.000000   \n",
              "50%    15000.500000   140000.000000      2.000000      2.000000      2.000000   \n",
              "75%    22500.250000   240000.000000      2.000000      2.000000      2.000000   \n",
              "max    30000.000000  1000000.000000      2.000000      6.000000      3.000000   \n",
              "\n",
              "                AGE         PAY_0         PAY_2         PAY_3         PAY_4  \\\n",
              "count  30000.000000  30000.000000  30000.000000  30000.000000  30000.000000   \n",
              "mean      35.485500     -0.016700     -0.133767     -0.166200     -0.220667   \n",
              "std        9.217904      1.123802      1.197186      1.196868      1.169139   \n",
              "min       21.000000     -2.000000     -2.000000     -2.000000     -2.000000   \n",
              "25%       28.000000     -1.000000     -1.000000     -1.000000     -1.000000   \n",
              "50%       34.000000      0.000000      0.000000      0.000000      0.000000   \n",
              "75%       41.000000      0.000000      0.000000      0.000000      0.000000   \n",
              "max       79.000000      8.000000      8.000000      8.000000      8.000000   \n",
              "\n",
              "       ...      BILL_AMT4      BILL_AMT5      BILL_AMT6       PAY_AMT1  \\\n",
              "count  ...   30000.000000   30000.000000   30000.000000   30000.000000   \n",
              "mean   ...   43262.948967   40311.400967   38871.760400    5663.580500   \n",
              "std    ...   64332.856134   60797.155770   59554.107537   16563.280354   \n",
              "min    ... -170000.000000  -81334.000000 -339603.000000       0.000000   \n",
              "25%    ...    2326.750000    1763.000000    1256.000000    1000.000000   \n",
              "50%    ...   19052.000000   18104.500000   17071.000000    2100.000000   \n",
              "75%    ...   54506.000000   50190.500000   49198.250000    5006.000000   \n",
              "max    ...  891586.000000  927171.000000  961664.000000  873552.000000   \n",
              "\n",
              "           PAY_AMT2      PAY_AMT3       PAY_AMT4       PAY_AMT5  \\\n",
              "count  3.000000e+04   30000.00000   30000.000000   30000.000000   \n",
              "mean   5.921163e+03    5225.68150    4826.076867    4799.387633   \n",
              "std    2.304087e+04   17606.96147   15666.159744   15278.305679   \n",
              "min    0.000000e+00       0.00000       0.000000       0.000000   \n",
              "25%    8.330000e+02     390.00000     296.000000     252.500000   \n",
              "50%    2.009000e+03    1800.00000    1500.000000    1500.000000   \n",
              "75%    5.000000e+03    4505.00000    4013.250000    4031.500000   \n",
              "max    1.684259e+06  896040.00000  621000.000000  426529.000000   \n",
              "\n",
              "            PAY_AMT6  default payment next month  \n",
              "count   30000.000000                30000.000000  \n",
              "mean     5215.502567                    0.221200  \n",
              "std     17777.465775                    0.415062  \n",
              "min         0.000000                    0.000000  \n",
              "25%       117.750000                    0.000000  \n",
              "50%      1500.000000                    0.000000  \n",
              "75%      4000.000000                    0.000000  \n",
              "max    528666.000000                    1.000000  \n",
              "\n",
              "[8 rows x 25 columns]"
            ],
            "text/html": [
              "\n",
              "  <div id=\"df-a62b8130-57d5-4cf2-b4a7-762d6fa7a4bc\">\n",
              "    <div class=\"colab-df-container\">\n",
              "      <div>\n",
              "<style scoped>\n",
              "    .dataframe tbody tr th:only-of-type {\n",
              "        vertical-align: middle;\n",
              "    }\n",
              "\n",
              "    .dataframe tbody tr th {\n",
              "        vertical-align: top;\n",
              "    }\n",
              "\n",
              "    .dataframe thead th {\n",
              "        text-align: right;\n",
              "    }\n",
              "</style>\n",
              "<table border=\"1\" class=\"dataframe\">\n",
              "  <thead>\n",
              "    <tr style=\"text-align: right;\">\n",
              "      <th></th>\n",
              "      <th>ID</th>\n",
              "      <th>LIMIT_BAL</th>\n",
              "      <th>SEX</th>\n",
              "      <th>EDUCATION</th>\n",
              "      <th>MARRIAGE</th>\n",
              "      <th>AGE</th>\n",
              "      <th>PAY_0</th>\n",
              "      <th>PAY_2</th>\n",
              "      <th>PAY_3</th>\n",
              "      <th>PAY_4</th>\n",
              "      <th>...</th>\n",
              "      <th>BILL_AMT4</th>\n",
              "      <th>BILL_AMT5</th>\n",
              "      <th>BILL_AMT6</th>\n",
              "      <th>PAY_AMT1</th>\n",
              "      <th>PAY_AMT2</th>\n",
              "      <th>PAY_AMT3</th>\n",
              "      <th>PAY_AMT4</th>\n",
              "      <th>PAY_AMT5</th>\n",
              "      <th>PAY_AMT6</th>\n",
              "      <th>default payment next month</th>\n",
              "    </tr>\n",
              "  </thead>\n",
              "  <tbody>\n",
              "    <tr>\n",
              "      <th>count</th>\n",
              "      <td>30000.000000</td>\n",
              "      <td>30000.000000</td>\n",
              "      <td>30000.000000</td>\n",
              "      <td>30000.000000</td>\n",
              "      <td>30000.000000</td>\n",
              "      <td>30000.000000</td>\n",
              "      <td>30000.000000</td>\n",
              "      <td>30000.000000</td>\n",
              "      <td>30000.000000</td>\n",
              "      <td>30000.000000</td>\n",
              "      <td>...</td>\n",
              "      <td>30000.000000</td>\n",
              "      <td>30000.000000</td>\n",
              "      <td>30000.000000</td>\n",
              "      <td>30000.000000</td>\n",
              "      <td>3.000000e+04</td>\n",
              "      <td>30000.00000</td>\n",
              "      <td>30000.000000</td>\n",
              "      <td>30000.000000</td>\n",
              "      <td>30000.000000</td>\n",
              "      <td>30000.000000</td>\n",
              "    </tr>\n",
              "    <tr>\n",
              "      <th>mean</th>\n",
              "      <td>15000.500000</td>\n",
              "      <td>167484.322667</td>\n",
              "      <td>1.603733</td>\n",
              "      <td>1.853133</td>\n",
              "      <td>1.551867</td>\n",
              "      <td>35.485500</td>\n",
              "      <td>-0.016700</td>\n",
              "      <td>-0.133767</td>\n",
              "      <td>-0.166200</td>\n",
              "      <td>-0.220667</td>\n",
              "      <td>...</td>\n",
              "      <td>43262.948967</td>\n",
              "      <td>40311.400967</td>\n",
              "      <td>38871.760400</td>\n",
              "      <td>5663.580500</td>\n",
              "      <td>5.921163e+03</td>\n",
              "      <td>5225.68150</td>\n",
              "      <td>4826.076867</td>\n",
              "      <td>4799.387633</td>\n",
              "      <td>5215.502567</td>\n",
              "      <td>0.221200</td>\n",
              "    </tr>\n",
              "    <tr>\n",
              "      <th>std</th>\n",
              "      <td>8660.398374</td>\n",
              "      <td>129747.661567</td>\n",
              "      <td>0.489129</td>\n",
              "      <td>0.790349</td>\n",
              "      <td>0.521970</td>\n",
              "      <td>9.217904</td>\n",
              "      <td>1.123802</td>\n",
              "      <td>1.197186</td>\n",
              "      <td>1.196868</td>\n",
              "      <td>1.169139</td>\n",
              "      <td>...</td>\n",
              "      <td>64332.856134</td>\n",
              "      <td>60797.155770</td>\n",
              "      <td>59554.107537</td>\n",
              "      <td>16563.280354</td>\n",
              "      <td>2.304087e+04</td>\n",
              "      <td>17606.96147</td>\n",
              "      <td>15666.159744</td>\n",
              "      <td>15278.305679</td>\n",
              "      <td>17777.465775</td>\n",
              "      <td>0.415062</td>\n",
              "    </tr>\n",
              "    <tr>\n",
              "      <th>min</th>\n",
              "      <td>1.000000</td>\n",
              "      <td>10000.000000</td>\n",
              "      <td>1.000000</td>\n",
              "      <td>0.000000</td>\n",
              "      <td>0.000000</td>\n",
              "      <td>21.000000</td>\n",
              "      <td>-2.000000</td>\n",
              "      <td>-2.000000</td>\n",
              "      <td>-2.000000</td>\n",
              "      <td>-2.000000</td>\n",
              "      <td>...</td>\n",
              "      <td>-170000.000000</td>\n",
              "      <td>-81334.000000</td>\n",
              "      <td>-339603.000000</td>\n",
              "      <td>0.000000</td>\n",
              "      <td>0.000000e+00</td>\n",
              "      <td>0.00000</td>\n",
              "      <td>0.000000</td>\n",
              "      <td>0.000000</td>\n",
              "      <td>0.000000</td>\n",
              "      <td>0.000000</td>\n",
              "    </tr>\n",
              "    <tr>\n",
              "      <th>25%</th>\n",
              "      <td>7500.750000</td>\n",
              "      <td>50000.000000</td>\n",
              "      <td>1.000000</td>\n",
              "      <td>1.000000</td>\n",
              "      <td>1.000000</td>\n",
              "      <td>28.000000</td>\n",
              "      <td>-1.000000</td>\n",
              "      <td>-1.000000</td>\n",
              "      <td>-1.000000</td>\n",
              "      <td>-1.000000</td>\n",
              "      <td>...</td>\n",
              "      <td>2326.750000</td>\n",
              "      <td>1763.000000</td>\n",
              "      <td>1256.000000</td>\n",
              "      <td>1000.000000</td>\n",
              "      <td>8.330000e+02</td>\n",
              "      <td>390.00000</td>\n",
              "      <td>296.000000</td>\n",
              "      <td>252.500000</td>\n",
              "      <td>117.750000</td>\n",
              "      <td>0.000000</td>\n",
              "    </tr>\n",
              "    <tr>\n",
              "      <th>50%</th>\n",
              "      <td>15000.500000</td>\n",
              "      <td>140000.000000</td>\n",
              "      <td>2.000000</td>\n",
              "      <td>2.000000</td>\n",
              "      <td>2.000000</td>\n",
              "      <td>34.000000</td>\n",
              "      <td>0.000000</td>\n",
              "      <td>0.000000</td>\n",
              "      <td>0.000000</td>\n",
              "      <td>0.000000</td>\n",
              "      <td>...</td>\n",
              "      <td>19052.000000</td>\n",
              "      <td>18104.500000</td>\n",
              "      <td>17071.000000</td>\n",
              "      <td>2100.000000</td>\n",
              "      <td>2.009000e+03</td>\n",
              "      <td>1800.00000</td>\n",
              "      <td>1500.000000</td>\n",
              "      <td>1500.000000</td>\n",
              "      <td>1500.000000</td>\n",
              "      <td>0.000000</td>\n",
              "    </tr>\n",
              "    <tr>\n",
              "      <th>75%</th>\n",
              "      <td>22500.250000</td>\n",
              "      <td>240000.000000</td>\n",
              "      <td>2.000000</td>\n",
              "      <td>2.000000</td>\n",
              "      <td>2.000000</td>\n",
              "      <td>41.000000</td>\n",
              "      <td>0.000000</td>\n",
              "      <td>0.000000</td>\n",
              "      <td>0.000000</td>\n",
              "      <td>0.000000</td>\n",
              "      <td>...</td>\n",
              "      <td>54506.000000</td>\n",
              "      <td>50190.500000</td>\n",
              "      <td>49198.250000</td>\n",
              "      <td>5006.000000</td>\n",
              "      <td>5.000000e+03</td>\n",
              "      <td>4505.00000</td>\n",
              "      <td>4013.250000</td>\n",
              "      <td>4031.500000</td>\n",
              "      <td>4000.000000</td>\n",
              "      <td>0.000000</td>\n",
              "    </tr>\n",
              "    <tr>\n",
              "      <th>max</th>\n",
              "      <td>30000.000000</td>\n",
              "      <td>1000000.000000</td>\n",
              "      <td>2.000000</td>\n",
              "      <td>6.000000</td>\n",
              "      <td>3.000000</td>\n",
              "      <td>79.000000</td>\n",
              "      <td>8.000000</td>\n",
              "      <td>8.000000</td>\n",
              "      <td>8.000000</td>\n",
              "      <td>8.000000</td>\n",
              "      <td>...</td>\n",
              "      <td>891586.000000</td>\n",
              "      <td>927171.000000</td>\n",
              "      <td>961664.000000</td>\n",
              "      <td>873552.000000</td>\n",
              "      <td>1.684259e+06</td>\n",
              "      <td>896040.00000</td>\n",
              "      <td>621000.000000</td>\n",
              "      <td>426529.000000</td>\n",
              "      <td>528666.000000</td>\n",
              "      <td>1.000000</td>\n",
              "    </tr>\n",
              "  </tbody>\n",
              "</table>\n",
              "<p>8 rows × 25 columns</p>\n",
              "</div>\n",
              "      <button class=\"colab-df-convert\" onclick=\"convertToInteractive('df-a62b8130-57d5-4cf2-b4a7-762d6fa7a4bc')\"\n",
              "              title=\"Convert this dataframe to an interactive table.\"\n",
              "              style=\"display:none;\">\n",
              "        \n",
              "  <svg xmlns=\"http://www.w3.org/2000/svg\" height=\"24px\"viewBox=\"0 0 24 24\"\n",
              "       width=\"24px\">\n",
              "    <path d=\"M0 0h24v24H0V0z\" fill=\"none\"/>\n",
              "    <path d=\"M18.56 5.44l.94 2.06.94-2.06 2.06-.94-2.06-.94-.94-2.06-.94 2.06-2.06.94zm-11 1L8.5 8.5l.94-2.06 2.06-.94-2.06-.94L8.5 2.5l-.94 2.06-2.06.94zm10 10l.94 2.06.94-2.06 2.06-.94-2.06-.94-.94-2.06-.94 2.06-2.06.94z\"/><path d=\"M17.41 7.96l-1.37-1.37c-.4-.4-.92-.59-1.43-.59-.52 0-1.04.2-1.43.59L10.3 9.45l-7.72 7.72c-.78.78-.78 2.05 0 2.83L4 21.41c.39.39.9.59 1.41.59.51 0 1.02-.2 1.41-.59l7.78-7.78 2.81-2.81c.8-.78.8-2.07 0-2.86zM5.41 20L4 18.59l7.72-7.72 1.47 1.35L5.41 20z\"/>\n",
              "  </svg>\n",
              "      </button>\n",
              "      \n",
              "  <style>\n",
              "    .colab-df-container {\n",
              "      display:flex;\n",
              "      flex-wrap:wrap;\n",
              "      gap: 12px;\n",
              "    }\n",
              "\n",
              "    .colab-df-convert {\n",
              "      background-color: #E8F0FE;\n",
              "      border: none;\n",
              "      border-radius: 50%;\n",
              "      cursor: pointer;\n",
              "      display: none;\n",
              "      fill: #1967D2;\n",
              "      height: 32px;\n",
              "      padding: 0 0 0 0;\n",
              "      width: 32px;\n",
              "    }\n",
              "\n",
              "    .colab-df-convert:hover {\n",
              "      background-color: #E2EBFA;\n",
              "      box-shadow: 0px 1px 2px rgba(60, 64, 67, 0.3), 0px 1px 3px 1px rgba(60, 64, 67, 0.15);\n",
              "      fill: #174EA6;\n",
              "    }\n",
              "\n",
              "    [theme=dark] .colab-df-convert {\n",
              "      background-color: #3B4455;\n",
              "      fill: #D2E3FC;\n",
              "    }\n",
              "\n",
              "    [theme=dark] .colab-df-convert:hover {\n",
              "      background-color: #434B5C;\n",
              "      box-shadow: 0px 1px 3px 1px rgba(0, 0, 0, 0.15);\n",
              "      filter: drop-shadow(0px 1px 2px rgba(0, 0, 0, 0.3));\n",
              "      fill: #FFFFFF;\n",
              "    }\n",
              "  </style>\n",
              "\n",
              "      <script>\n",
              "        const buttonEl =\n",
              "          document.querySelector('#df-a62b8130-57d5-4cf2-b4a7-762d6fa7a4bc button.colab-df-convert');\n",
              "        buttonEl.style.display =\n",
              "          google.colab.kernel.accessAllowed ? 'block' : 'none';\n",
              "\n",
              "        async function convertToInteractive(key) {\n",
              "          const element = document.querySelector('#df-a62b8130-57d5-4cf2-b4a7-762d6fa7a4bc');\n",
              "          const dataTable =\n",
              "            await google.colab.kernel.invokeFunction('convertToInteractive',\n",
              "                                                     [key], {});\n",
              "          if (!dataTable) return;\n",
              "\n",
              "          const docLinkHtml = 'Like what you see? Visit the ' +\n",
              "            '<a target=\"_blank\" href=https://colab.research.google.com/notebooks/data_table.ipynb>data table notebook</a>'\n",
              "            + ' to learn more about interactive tables.';\n",
              "          element.innerHTML = '';\n",
              "          dataTable['output_type'] = 'display_data';\n",
              "          await google.colab.output.renderOutput(dataTable, element);\n",
              "          const docLink = document.createElement('div');\n",
              "          docLink.innerHTML = docLinkHtml;\n",
              "          element.appendChild(docLink);\n",
              "        }\n",
              "      </script>\n",
              "    </div>\n",
              "  </div>\n",
              "  "
            ]
          },
          "metadata": {},
          "execution_count": 16
        }
      ]
    },
    {
      "cell_type": "code",
      "source": [
        "df.info()"
      ],
      "metadata": {
        "colab": {
          "base_uri": "https://localhost:8080/"
        },
        "id": "j4J5xnJhcS6S",
        "outputId": "26cb5f5b-45fb-4014-b750-019e1b11f3d9"
      },
      "id": "j4J5xnJhcS6S",
      "execution_count": 17,
      "outputs": [
        {
          "output_type": "stream",
          "name": "stdout",
          "text": [
            "<class 'pandas.core.frame.DataFrame'>\n",
            "RangeIndex: 30000 entries, 0 to 29999\n",
            "Data columns (total 25 columns):\n",
            " #   Column                      Non-Null Count  Dtype\n",
            "---  ------                      --------------  -----\n",
            " 0   ID                          30000 non-null  int64\n",
            " 1   LIMIT_BAL                   30000 non-null  int64\n",
            " 2   SEX                         30000 non-null  int64\n",
            " 3   EDUCATION                   30000 non-null  int64\n",
            " 4   MARRIAGE                    30000 non-null  int64\n",
            " 5   AGE                         30000 non-null  int64\n",
            " 6   PAY_0                       30000 non-null  int64\n",
            " 7   PAY_2                       30000 non-null  int64\n",
            " 8   PAY_3                       30000 non-null  int64\n",
            " 9   PAY_4                       30000 non-null  int64\n",
            " 10  PAY_5                       30000 non-null  int64\n",
            " 11  PAY_6                       30000 non-null  int64\n",
            " 12  BILL_AMT1                   30000 non-null  int64\n",
            " 13  BILL_AMT2                   30000 non-null  int64\n",
            " 14  BILL_AMT3                   30000 non-null  int64\n",
            " 15  BILL_AMT4                   30000 non-null  int64\n",
            " 16  BILL_AMT5                   30000 non-null  int64\n",
            " 17  BILL_AMT6                   30000 non-null  int64\n",
            " 18  PAY_AMT1                    30000 non-null  int64\n",
            " 19  PAY_AMT2                    30000 non-null  int64\n",
            " 20  PAY_AMT3                    30000 non-null  int64\n",
            " 21  PAY_AMT4                    30000 non-null  int64\n",
            " 22  PAY_AMT5                    30000 non-null  int64\n",
            " 23  PAY_AMT6                    30000 non-null  int64\n",
            " 24  default payment next month  30000 non-null  int64\n",
            "dtypes: int64(25)\n",
            "memory usage: 5.7 MB\n"
          ]
        }
      ]
    },
    {
      "cell_type": "code",
      "source": [
        "x = df.iloc[:,1:24].values\n",
        "y = df.iloc[:,24].values\n",
        "print(x)\n",
        "print(y)"
      ],
      "metadata": {
        "colab": {
          "base_uri": "https://localhost:8080/"
        },
        "id": "TGmV2kLMdx8G",
        "outputId": "046958ee-8bda-42c6-890d-0fca2059259f"
      },
      "id": "TGmV2kLMdx8G",
      "execution_count": 18,
      "outputs": [
        {
          "output_type": "stream",
          "name": "stdout",
          "text": [
            "[[ 20000      2      2 ...      0      0      0]\n",
            " [120000      2      2 ...   1000      0   2000]\n",
            " [ 90000      2      2 ...   1000   1000   5000]\n",
            " ...\n",
            " [ 30000      1      2 ...   4200   2000   3100]\n",
            " [ 80000      1      3 ...   1926  52964   1804]\n",
            " [ 50000      1      2 ...   1000   1000   1000]]\n",
            "[1 1 0 ... 1 1 1]\n"
          ]
        }
      ]
    },
    {
      "cell_type": "code",
      "source": [
        "x.shape"
      ],
      "metadata": {
        "colab": {
          "base_uri": "https://localhost:8080/"
        },
        "id": "MVajiksDfHXz",
        "outputId": "64f0a1d0-7b92-4696-94ec-fd35ce10cfe1"
      },
      "id": "MVajiksDfHXz",
      "execution_count": 20,
      "outputs": [
        {
          "output_type": "execute_result",
          "data": {
            "text/plain": [
              "(30000, 23)"
            ]
          },
          "metadata": {},
          "execution_count": 20
        }
      ]
    },
    {
      "cell_type": "code",
      "source": [
        "from sklearn.model_selection import train_test_split\n",
        "x_train, x_test, y_train, y_test = train_test_split(x, y, test_size = 0.3, random_state = 111)\n",
        "print(x_train.shape)\n",
        "print(y_train.shape)\n",
        "print(x_test.shape)\n",
        "print(y_test.shape)"
      ],
      "metadata": {
        "colab": {
          "base_uri": "https://localhost:8080/"
        },
        "id": "c3vEtw_NfX20",
        "outputId": "2a9efaa1-c16a-4e68-bbfe-c83774cf4157"
      },
      "id": "c3vEtw_NfX20",
      "execution_count": 23,
      "outputs": [
        {
          "output_type": "stream",
          "name": "stdout",
          "text": [
            "(21000, 23)\n",
            "(21000,)\n",
            "(9000, 23)\n",
            "(9000,)\n"
          ]
        }
      ]
    },
    {
      "cell_type": "code",
      "source": [
        "from sklearn.preprocessing import StandardScaler\n",
        "sc = StandardScaler()\n",
        "x_train = sc.fit_transform(x_train)\n",
        "x_test = sc.transform(x_test)"
      ],
      "metadata": {
        "id": "MU2_9EJzgaki"
      },
      "id": "MU2_9EJzgaki",
      "execution_count": 24,
      "outputs": []
    },
    {
      "cell_type": "code",
      "source": [
        "x_train[:1]"
      ],
      "metadata": {
        "colab": {
          "base_uri": "https://localhost:8080/"
        },
        "id": "aGMvNQ4zhT6j",
        "outputId": "8054ebdf-34c9-48b1-f1a3-203529d32b55"
      },
      "id": "aGMvNQ4zhT6j",
      "execution_count": 25,
      "outputs": [
        {
          "output_type": "execute_result",
          "data": {
            "text/plain": [
              "array([[ 0.48238852,  0.81447304,  0.18907673,  0.86211952, -0.48921975,\n",
              "        -0.87463676, -0.72347864, -0.6983838 , -0.66637051,  0.23416564,\n",
              "         0.25233359, -0.63042993, -0.63367788, -0.6645842 , -0.51248219,\n",
              "        -0.57038965,  0.39521137, -0.0821721 , -0.22758026,  0.33473587,\n",
              "        -0.28260403,  3.38918769, -0.15149706]])"
            ]
          },
          "metadata": {},
          "execution_count": 25
        }
      ]
    },
    {
      "cell_type": "code",
      "source": [
        "from keras.models import Sequential\n",
        "from keras.layers import Dense"
      ],
      "metadata": {
        "id": "KD7QfaHhhWXf"
      },
      "id": "KD7QfaHhhWXf",
      "execution_count": 27,
      "outputs": []
    },
    {
      "cell_type": "code",
      "source": [
        "class_model_keras = Sequential()"
      ],
      "metadata": {
        "id": "jKvbHNfZiZPc"
      },
      "id": "jKvbHNfZiZPc",
      "execution_count": 28,
      "outputs": []
    },
    {
      "cell_type": "code",
      "source": [
        "class_model_keras.add(Dense(24,input_dim = 23, activation= 'relu'))\n",
        "class_model_keras.add(Dense(12,activation='relu'))\n",
        "class_model_keras.add(Dense(1,activation= 'sigmoid'))"
      ],
      "metadata": {
        "id": "Lu-LzwpBimK3"
      },
      "id": "Lu-LzwpBimK3",
      "execution_count": 31,
      "outputs": []
    },
    {
      "cell_type": "code",
      "source": [
        "class_model_keras.summary()"
      ],
      "metadata": {
        "colab": {
          "base_uri": "https://localhost:8080/"
        },
        "id": "PqaEn3wljfkP",
        "outputId": "acfdf89c-8cb6-465d-d029-02bb4362578c"
      },
      "id": "PqaEn3wljfkP",
      "execution_count": 32,
      "outputs": [
        {
          "output_type": "stream",
          "name": "stdout",
          "text": [
            "Model: \"sequential\"\n",
            "_________________________________________________________________\n",
            " Layer (type)                Output Shape              Param #   \n",
            "=================================================================\n",
            " dense (Dense)               (None, 24)                576       \n",
            "                                                                 \n",
            " dense_1 (Dense)             (None, 12)                300       \n",
            "                                                                 \n",
            " dense_2 (Dense)             (None, 1)                 13        \n",
            "                                                                 \n",
            "=================================================================\n",
            "Total params: 889\n",
            "Trainable params: 889\n",
            "Non-trainable params: 0\n",
            "_________________________________________________________________\n"
          ]
        }
      ]
    },
    {
      "cell_type": "code",
      "source": [
        "class_model_keras.compile(optimizer='adam', loss = 'binary_crossentropy' , metrics = ['accuracy'])"
      ],
      "metadata": {
        "id": "Fs4wqYNkjo2i"
      },
      "id": "Fs4wqYNkjo2i",
      "execution_count": 38,
      "outputs": []
    },
    {
      "cell_type": "code",
      "source": [
        "class_model_keras.fit(x_train, y_train, batch_size = 10, epochs = 100)"
      ],
      "metadata": {
        "colab": {
          "base_uri": "https://localhost:8080/"
        },
        "id": "NDmTUbbRqNOK",
        "outputId": "4c0b7833-5c37-4749-bec8-c8a37b94e080"
      },
      "id": "NDmTUbbRqNOK",
      "execution_count": 39,
      "outputs": [
        {
          "output_type": "stream",
          "name": "stdout",
          "text": [
            "Epoch 1/100\n",
            "2100/2100 [==============================] - 9s 4ms/step - loss: 0.4720 - accuracy: 0.8077\n",
            "Epoch 2/100\n",
            "2100/2100 [==============================] - 4s 2ms/step - loss: 0.4461 - accuracy: 0.8165\n",
            "Epoch 3/100\n",
            "2100/2100 [==============================] - 4s 2ms/step - loss: 0.4411 - accuracy: 0.8194\n",
            "Epoch 4/100\n",
            "2100/2100 [==============================] - 4s 2ms/step - loss: 0.4377 - accuracy: 0.8182\n",
            "Epoch 5/100\n",
            "2100/2100 [==============================] - 4s 2ms/step - loss: 0.4344 - accuracy: 0.8192\n",
            "Epoch 6/100\n",
            "2100/2100 [==============================] - 4s 2ms/step - loss: 0.4325 - accuracy: 0.8209\n",
            "Epoch 7/100\n",
            "2100/2100 [==============================] - 4s 2ms/step - loss: 0.4302 - accuracy: 0.8203\n",
            "Epoch 8/100\n",
            "2100/2100 [==============================] - 4s 2ms/step - loss: 0.4291 - accuracy: 0.8216\n",
            "Epoch 9/100\n",
            "2100/2100 [==============================] - 4s 2ms/step - loss: 0.4283 - accuracy: 0.8223\n",
            "Epoch 10/100\n",
            "2100/2100 [==============================] - 4s 2ms/step - loss: 0.4277 - accuracy: 0.8215\n",
            "Epoch 11/100\n",
            "2100/2100 [==============================] - 4s 2ms/step - loss: 0.4267 - accuracy: 0.8219\n",
            "Epoch 12/100\n",
            "2100/2100 [==============================] - 4s 2ms/step - loss: 0.4266 - accuracy: 0.8227\n",
            "Epoch 13/100\n",
            "2100/2100 [==============================] - 4s 2ms/step - loss: 0.4256 - accuracy: 0.8222\n",
            "Epoch 14/100\n",
            "2100/2100 [==============================] - 4s 2ms/step - loss: 0.4244 - accuracy: 0.8231\n",
            "Epoch 15/100\n",
            "2100/2100 [==============================] - 4s 2ms/step - loss: 0.4237 - accuracy: 0.8211\n",
            "Epoch 16/100\n",
            "2100/2100 [==============================] - 4s 2ms/step - loss: 0.4237 - accuracy: 0.8230\n",
            "Epoch 17/100\n",
            "2100/2100 [==============================] - 4s 2ms/step - loss: 0.4229 - accuracy: 0.8231\n",
            "Epoch 18/100\n",
            "2100/2100 [==============================] - 4s 2ms/step - loss: 0.4225 - accuracy: 0.8231\n",
            "Epoch 19/100\n",
            "2100/2100 [==============================] - 4s 2ms/step - loss: 0.4219 - accuracy: 0.8244\n",
            "Epoch 20/100\n",
            "2100/2100 [==============================] - 4s 2ms/step - loss: 0.4216 - accuracy: 0.8231\n",
            "Epoch 21/100\n",
            "2100/2100 [==============================] - 4s 2ms/step - loss: 0.4212 - accuracy: 0.8230\n",
            "Epoch 22/100\n",
            "2100/2100 [==============================] - 4s 2ms/step - loss: 0.4212 - accuracy: 0.8230\n",
            "Epoch 23/100\n",
            "2100/2100 [==============================] - 4s 2ms/step - loss: 0.4202 - accuracy: 0.8244\n",
            "Epoch 24/100\n",
            "2100/2100 [==============================] - 6s 3ms/step - loss: 0.4195 - accuracy: 0.8249\n",
            "Epoch 25/100\n",
            "2100/2100 [==============================] - 6s 3ms/step - loss: 0.4200 - accuracy: 0.8246\n",
            "Epoch 26/100\n",
            "2100/2100 [==============================] - 7s 3ms/step - loss: 0.4191 - accuracy: 0.8256\n",
            "Epoch 27/100\n",
            "2100/2100 [==============================] - 8s 4ms/step - loss: 0.4188 - accuracy: 0.8244\n",
            "Epoch 28/100\n",
            "2100/2100 [==============================] - 7s 3ms/step - loss: 0.4187 - accuracy: 0.8255\n",
            "Epoch 29/100\n",
            "2100/2100 [==============================] - 5s 3ms/step - loss: 0.4180 - accuracy: 0.8251\n",
            "Epoch 30/100\n",
            "2100/2100 [==============================] - 8s 4ms/step - loss: 0.4173 - accuracy: 0.8247\n",
            "Epoch 31/100\n",
            "2100/2100 [==============================] - 5s 2ms/step - loss: 0.4174 - accuracy: 0.8266\n",
            "Epoch 32/100\n",
            "2100/2100 [==============================] - 5s 3ms/step - loss: 0.4175 - accuracy: 0.8253\n",
            "Epoch 33/100\n",
            "2100/2100 [==============================] - 5s 3ms/step - loss: 0.4173 - accuracy: 0.8259\n",
            "Epoch 34/100\n",
            "2100/2100 [==============================] - 6s 3ms/step - loss: 0.4163 - accuracy: 0.8263\n",
            "Epoch 35/100\n",
            "2100/2100 [==============================] - 4s 2ms/step - loss: 0.4160 - accuracy: 0.8258\n",
            "Epoch 36/100\n",
            "2100/2100 [==============================] - 4s 2ms/step - loss: 0.4150 - accuracy: 0.8266\n",
            "Epoch 37/100\n",
            "2100/2100 [==============================] - 4s 2ms/step - loss: 0.4150 - accuracy: 0.8265\n",
            "Epoch 38/100\n",
            "2100/2100 [==============================] - 4s 2ms/step - loss: 0.4157 - accuracy: 0.8264\n",
            "Epoch 39/100\n",
            "2100/2100 [==============================] - 4s 2ms/step - loss: 0.4150 - accuracy: 0.8269\n",
            "Epoch 40/100\n",
            "2100/2100 [==============================] - 4s 2ms/step - loss: 0.4143 - accuracy: 0.8272\n",
            "Epoch 41/100\n",
            "2100/2100 [==============================] - 4s 2ms/step - loss: 0.4144 - accuracy: 0.8258\n",
            "Epoch 42/100\n",
            "2100/2100 [==============================] - 4s 2ms/step - loss: 0.4142 - accuracy: 0.8270\n",
            "Epoch 43/100\n",
            "2100/2100 [==============================] - 4s 2ms/step - loss: 0.4133 - accuracy: 0.8269\n",
            "Epoch 44/100\n",
            "2100/2100 [==============================] - 4s 2ms/step - loss: 0.4139 - accuracy: 0.8279\n",
            "Epoch 45/100\n",
            "2100/2100 [==============================] - 5s 2ms/step - loss: 0.4130 - accuracy: 0.8293\n",
            "Epoch 46/100\n",
            "2100/2100 [==============================] - 9s 4ms/step - loss: 0.4138 - accuracy: 0.8266\n",
            "Epoch 47/100\n",
            "2100/2100 [==============================] - 6s 3ms/step - loss: 0.4131 - accuracy: 0.8269\n",
            "Epoch 48/100\n",
            "2100/2100 [==============================] - 6s 3ms/step - loss: 0.4130 - accuracy: 0.8273\n",
            "Epoch 49/100\n",
            "2100/2100 [==============================] - 6s 3ms/step - loss: 0.4128 - accuracy: 0.8278\n",
            "Epoch 50/100\n",
            "2100/2100 [==============================] - 4s 2ms/step - loss: 0.4118 - accuracy: 0.8264\n",
            "Epoch 51/100\n",
            "2100/2100 [==============================] - 4s 2ms/step - loss: 0.4125 - accuracy: 0.8269\n",
            "Epoch 52/100\n",
            "2100/2100 [==============================] - 6s 3ms/step - loss: 0.4118 - accuracy: 0.8275\n",
            "Epoch 53/100\n",
            "2100/2100 [==============================] - 6s 3ms/step - loss: 0.4120 - accuracy: 0.8272\n",
            "Epoch 54/100\n",
            "2100/2100 [==============================] - 5s 3ms/step - loss: 0.4115 - accuracy: 0.8272\n",
            "Epoch 55/100\n",
            "2100/2100 [==============================] - 6s 3ms/step - loss: 0.4115 - accuracy: 0.8266\n",
            "Epoch 56/100\n",
            "2100/2100 [==============================] - 6s 3ms/step - loss: 0.4115 - accuracy: 0.8274\n",
            "Epoch 57/100\n",
            "2100/2100 [==============================] - 5s 3ms/step - loss: 0.4111 - accuracy: 0.8264\n",
            "Epoch 58/100\n",
            "2100/2100 [==============================] - 6s 3ms/step - loss: 0.4110 - accuracy: 0.8278\n",
            "Epoch 59/100\n",
            "2100/2100 [==============================] - 5s 2ms/step - loss: 0.4108 - accuracy: 0.8278\n",
            "Epoch 60/100\n",
            "2100/2100 [==============================] - 6s 3ms/step - loss: 0.4095 - accuracy: 0.8272\n",
            "Epoch 61/100\n",
            "2100/2100 [==============================] - 8s 4ms/step - loss: 0.4103 - accuracy: 0.8290\n",
            "Epoch 62/100\n",
            "2100/2100 [==============================] - 6s 3ms/step - loss: 0.4097 - accuracy: 0.8274\n",
            "Epoch 63/100\n",
            "2100/2100 [==============================] - 5s 3ms/step - loss: 0.4095 - accuracy: 0.8278\n",
            "Epoch 64/100\n",
            "2100/2100 [==============================] - 8s 4ms/step - loss: 0.4095 - accuracy: 0.8287\n",
            "Epoch 65/100\n",
            "2100/2100 [==============================] - 8s 4ms/step - loss: 0.4089 - accuracy: 0.8275\n",
            "Epoch 66/100\n",
            "2100/2100 [==============================] - 9s 4ms/step - loss: 0.4090 - accuracy: 0.8290\n",
            "Epoch 67/100\n",
            "2100/2100 [==============================] - 6s 3ms/step - loss: 0.4083 - accuracy: 0.8294\n",
            "Epoch 68/100\n",
            "2100/2100 [==============================] - 6s 3ms/step - loss: 0.4084 - accuracy: 0.8287\n",
            "Epoch 69/100\n",
            "2100/2100 [==============================] - 7s 3ms/step - loss: 0.4075 - accuracy: 0.8286\n",
            "Epoch 70/100\n",
            "2100/2100 [==============================] - 6s 3ms/step - loss: 0.4079 - accuracy: 0.8287\n",
            "Epoch 71/100\n",
            "2100/2100 [==============================] - 7s 3ms/step - loss: 0.4074 - accuracy: 0.8301\n",
            "Epoch 72/100\n",
            "2100/2100 [==============================] - 6s 3ms/step - loss: 0.4079 - accuracy: 0.8289\n",
            "Epoch 73/100\n",
            "2100/2100 [==============================] - 7s 4ms/step - loss: 0.4069 - accuracy: 0.8294\n",
            "Epoch 74/100\n",
            "2100/2100 [==============================] - 6s 3ms/step - loss: 0.4070 - accuracy: 0.8293\n",
            "Epoch 75/100\n",
            "2100/2100 [==============================] - 7s 3ms/step - loss: 0.4075 - accuracy: 0.8288\n",
            "Epoch 76/100\n",
            "2100/2100 [==============================] - 6s 3ms/step - loss: 0.4073 - accuracy: 0.8295\n",
            "Epoch 77/100\n",
            "2100/2100 [==============================] - 5s 3ms/step - loss: 0.4071 - accuracy: 0.8288\n",
            "Epoch 78/100\n",
            "2100/2100 [==============================] - 5s 3ms/step - loss: 0.4063 - accuracy: 0.8278\n",
            "Epoch 79/100\n",
            "2100/2100 [==============================] - 6s 3ms/step - loss: 0.4063 - accuracy: 0.8301\n",
            "Epoch 80/100\n",
            "2100/2100 [==============================] - 6s 3ms/step - loss: 0.4056 - accuracy: 0.8280\n",
            "Epoch 81/100\n",
            "2100/2100 [==============================] - 6s 3ms/step - loss: 0.4063 - accuracy: 0.8288\n",
            "Epoch 82/100\n",
            "2100/2100 [==============================] - 6s 3ms/step - loss: 0.4057 - accuracy: 0.8290\n",
            "Epoch 83/100\n",
            "2100/2100 [==============================] - 6s 3ms/step - loss: 0.4056 - accuracy: 0.8289\n",
            "Epoch 84/100\n",
            "2100/2100 [==============================] - 7s 3ms/step - loss: 0.4058 - accuracy: 0.8290\n",
            "Epoch 85/100\n",
            "2100/2100 [==============================] - 4s 2ms/step - loss: 0.4056 - accuracy: 0.8278\n",
            "Epoch 86/100\n",
            "2100/2100 [==============================] - 4s 2ms/step - loss: 0.4051 - accuracy: 0.8281\n",
            "Epoch 87/100\n",
            "2100/2100 [==============================] - 4s 2ms/step - loss: 0.4056 - accuracy: 0.8310\n",
            "Epoch 88/100\n",
            "2100/2100 [==============================] - 4s 2ms/step - loss: 0.4048 - accuracy: 0.8308\n",
            "Epoch 89/100\n",
            "2100/2100 [==============================] - 4s 2ms/step - loss: 0.4056 - accuracy: 0.8290\n",
            "Epoch 90/100\n",
            "2100/2100 [==============================] - 4s 2ms/step - loss: 0.4046 - accuracy: 0.8302\n",
            "Epoch 91/100\n",
            "2100/2100 [==============================] - 4s 2ms/step - loss: 0.4049 - accuracy: 0.8312\n",
            "Epoch 92/100\n",
            "2100/2100 [==============================] - 4s 2ms/step - loss: 0.4044 - accuracy: 0.8292\n",
            "Epoch 93/100\n",
            "2100/2100 [==============================] - 4s 2ms/step - loss: 0.4048 - accuracy: 0.8313\n",
            "Epoch 94/100\n",
            "2100/2100 [==============================] - 4s 2ms/step - loss: 0.4042 - accuracy: 0.8308\n",
            "Epoch 95/100\n",
            "2100/2100 [==============================] - 4s 2ms/step - loss: 0.4040 - accuracy: 0.8298\n",
            "Epoch 96/100\n",
            "2100/2100 [==============================] - 4s 2ms/step - loss: 0.4038 - accuracy: 0.8297\n",
            "Epoch 97/100\n",
            "2100/2100 [==============================] - 4s 2ms/step - loss: 0.4033 - accuracy: 0.8320\n",
            "Epoch 98/100\n",
            "2100/2100 [==============================] - 4s 2ms/step - loss: 0.4036 - accuracy: 0.8294\n",
            "Epoch 99/100\n",
            "2100/2100 [==============================] - 4s 2ms/step - loss: 0.4038 - accuracy: 0.8295\n",
            "Epoch 100/100\n",
            "2100/2100 [==============================] - 4s 2ms/step - loss: 0.4037 - accuracy: 0.8304\n"
          ]
        },
        {
          "output_type": "execute_result",
          "data": {
            "text/plain": [
              "<keras.callbacks.History at 0x7f5454c2ddd0>"
            ]
          },
          "metadata": {},
          "execution_count": 39
        }
      ]
    },
    {
      "cell_type": "code",
      "source": [
        "y_pred =  class_model_keras.predict(x_test)"
      ],
      "metadata": {
        "id": "Xrq6J-FLq2RV"
      },
      "id": "Xrq6J-FLq2RV",
      "execution_count": 51,
      "outputs": []
    },
    {
      "cell_type": "code",
      "source": [
        "y_pred"
      ],
      "metadata": {
        "colab": {
          "base_uri": "https://localhost:8080/"
        },
        "id": "7SK2aI-CwI1R",
        "outputId": "c42de675-c2b5-4321-86e8-8d860ef3da26"
      },
      "id": "7SK2aI-CwI1R",
      "execution_count": 52,
      "outputs": [
        {
          "output_type": "execute_result",
          "data": {
            "text/plain": [
              "array([[0.37923723],\n",
              "       [0.27735913],\n",
              "       [0.08242512],\n",
              "       ...,\n",
              "       [0.04638395],\n",
              "       [0.37391317],\n",
              "       [0.14270884]], dtype=float32)"
            ]
          },
          "metadata": {},
          "execution_count": 52
        }
      ]
    },
    {
      "cell_type": "code",
      "source": [
        "pred = (y_pred> 0.5)"
      ],
      "metadata": {
        "id": "KWZXXJX8vOeh"
      },
      "id": "KWZXXJX8vOeh",
      "execution_count": 53,
      "outputs": []
    },
    {
      "cell_type": "code",
      "source": [
        "pred"
      ],
      "metadata": {
        "colab": {
          "base_uri": "https://localhost:8080/"
        },
        "id": "YUrxJmAkysUZ",
        "outputId": "7252867b-443f-4a5a-c8c1-cac2b5b4093b"
      },
      "id": "YUrxJmAkysUZ",
      "execution_count": 56,
      "outputs": [
        {
          "output_type": "execute_result",
          "data": {
            "text/plain": [
              "array([[False],\n",
              "       [False],\n",
              "       [False],\n",
              "       ...,\n",
              "       [False],\n",
              "       [False],\n",
              "       [False]])"
            ]
          },
          "metadata": {},
          "execution_count": 56
        }
      ]
    },
    {
      "cell_type": "code",
      "source": [
        "target_names = [ 'no', 'yes']\n",
        "def plot_confusion_matrix(cm, classes,\n",
        "                          normalize=False,\n",
        "                          title='Confusion matrix',\n",
        "                          cmap=plt.cm.Blues):\n",
        " plt.imshow(cm, interpolation='nearest', cmap=cmap)\n",
        " plt.title(title)\n",
        " plt.colorbar()\n",
        " tick_mark = np.arange(len(classes))\n",
        " plt.xticks(tick_mark, classes , rotation=45)\n",
        " plt.yticks(tick_mark, classes)\n",
        "\n",
        " if normalize:\n",
        "    cm=cm.astype('float')/cm.sum(axis=1)[:,np.newaxis]\n",
        "    print(\"Normalized confusion matrix\")\n",
        " else:\n",
        "    print('confusion matrix , without normalization')\n",
        " print(cm)\n",
        " thresh = cm.max()/ 2.\n",
        " for i,j in itertools.product(range(cm.shape[0]), range(cm.shape[1])):\n",
        "    plt.text(j, i, cm[i,j],\n",
        "            horizontalalignment='center',\n",
        "            color='white' if cm[i,j] > thresh else \"black\")\n",
        " plt.tight_layout()\n",
        " plt.ylabel('True')\n",
        " plt.xlabel('Predicted')"
      ],
      "metadata": {
        "id": "bZ7hpKt4v4Qh"
      },
      "id": "bZ7hpKt4v4Qh",
      "execution_count": 63,
      "outputs": []
    },
    {
      "cell_type": "code",
      "source": [
        "from sklearn.metrics import confusion_matrix\n",
        "cm = confusion_matrix(y_test, pred)\n",
        "plt.figure()\n",
        "plot_confusion_matrix(cm, classes=target_names, normalize=False)\n",
        "plt.show()"
      ],
      "metadata": {
        "colab": {
          "base_uri": "https://localhost:8080/",
          "height": 363
        },
        "id": "AEJ8rNY2v5hU",
        "outputId": "46dd13bb-4aad-4b16-b332-2e4862b9feae"
      },
      "id": "AEJ8rNY2v5hU",
      "execution_count": 64,
      "outputs": [
        {
          "output_type": "stream",
          "name": "stdout",
          "text": [
            "confusion matrix , without normalization\n",
            "[[6574  406]\n",
            " [1262  758]]\n"
          ]
        },
        {
          "output_type": "display_data",
          "data": {
            "text/plain": [
              "<Figure size 432x288 with 2 Axes>"
            ],
            "image/png": "[encoded data removed]"
          },
          "metadata": {
            "needs_background": "light"
          }
        }
      ]
    },
    {
      "cell_type": "code",
      "source": [
        "from sklearn.metrics import confusion_matrix\n",
        "confusion_matrix(y_test,pred)"
      ],
      "metadata": {
        "colab": {
          "base_uri": "https://localhost:8080/"
        },
        "id": "6YqHkvpY0g8Y",
        "outputId": "6c9789c8-4025-4fe8-c5c0-932aada82afe"
      },
      "id": "6YqHkvpY0g8Y",
      "execution_count": 67,
      "outputs": [
        {
          "output_type": "execute_result",
          "data": {
            "text/plain": [
              "array([[6574,  406],\n",
              "       [1262,  758]])"
            ]
          },
          "metadata": {},
          "execution_count": 67
        }
      ]
    },
    {
      "cell_type": "code",
      "source": [
        "scores = class_model_keras.evaluate(x_test,y_test)\n",
        "print(\"\\nACCURACY: %.2f%%\" % (scores[1]*100))"
      ],
      "metadata": {
        "colab": {
          "base_uri": "https://localhost:8080/"
        },
        "id": "Sxbt-t221gbM",
        "outputId": "d2ca4022-2dd1-42e8-abfc-9d218397fe93"
      },
      "id": "Sxbt-t221gbM",
      "execution_count": 68,
      "outputs": [
        {
          "output_type": "stream",
          "name": "stdout",
          "text": [
            "282/282 [==============================] - 1s 3ms/step - loss: 0.4530 - accuracy: 0.8147\n",
            "\n",
            "ACCURACY: 81.47%\n"
          ]
        }
      ]
    },
    {
      "cell_type": "code",
      "source": [
        ""
      ],
      "metadata": {
        "id": "aT9XrZwv2Elo"
      },
      "id": "aT9XrZwv2Elo",
      "execution_count": null,
      "outputs": []
    }
  ],
  "metadata": {
    "kernelspec": {
      "display_name": "Python 3 (ipykernel)",
      "language": "python",
      "name": "python3"
    },
    "language_info": {
      "codemirror_mode": {
        "name": "ipython",
        "version": 3
      },
      "file_extension": ".py",
      "mimetype": "text/x-python",
      "name": "python",
      "nbconvert_exporter": "python",
      "pygments_lexer": "ipython3",
      "version": "3.9.7"
    },
    "colab": {
      "name": "CREDICT DEFAULTERS PREDICTION WITH KERAS IN PYTHON.ipynb",
      "provenance": [],
      "collapsed_sections": [],
      "include_colab_link": true
    }
  },
  "nbformat": 4,
  "nbformat_minor": 5
}